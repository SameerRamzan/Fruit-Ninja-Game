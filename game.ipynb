{
 "cells": [
  {
   "cell_type": "code",
   "execution_count": 1,
   "id": "4b4388c5",
   "metadata": {},
   "outputs": [],
   "source": [
    "import cv2\n",
    "import mediapipe as mp\n",
    "import random\n",
    "import time\n",
    "import math"
   ]
  },
  {
   "cell_type": "code",
   "execution_count": 2,
   "id": "f170f570",
   "metadata": {},
   "outputs": [],
   "source": [
    "# This script uses OpenCV and MediaPipe to detect hand landmarks in a video stream.\n",
    "mp_hands = mp.solutions.hands\n",
    "mp_drawing = mp.solutions.drawing_utils\n",
    "hands = mp_hands.Hands(max_num_hands=1)"
   ]
  },
  {
   "cell_type": "code",
   "execution_count": 3,
   "id": "20c9d581",
   "metadata": {},
   "outputs": [],
   "source": [
    "# maka a class for fruits generating circles on the screen\n",
    "class Fruit:\n",
    "    def __init__(self, x, y, velocity):\n",
    "        self.x = x\n",
    "        self.y = y\n",
    "        self.velocity = velocity\n",
    "        self.radius = 30\n",
    "        self.alive = True \n",
    "\n",
    "    def move(self):\n",
    "        self.y += self.velocity\n",
    "        if self.y > 480:\n",
    "            self.alive = False\n",
    "\n",
    "    def draw(self, frame):\n",
    "        if self.alive:\n",
    "            cv2.circle(frame, (self.x, self.y), self.radius, (0, 255, 0), -1)"
   ]
  },
  {
   "cell_type": "code",
   "execution_count": 4,
   "id": "23e99e50",
   "metadata": {},
   "outputs": [],
   "source": [
    "# Game variables\n",
    "fruits = []\n",
    "prev_x, prev_y = None, None\n",
    "last_spawn_time = time.time()"
   ]
  },
  {
   "cell_type": "code",
   "execution_count": 7,
   "id": "55904b7f",
   "metadata": {},
   "outputs": [
    {
     "name": "stdout",
     "output_type": "stream",
     "text": [
      "Failed to grab frame\n"
     ]
    }
   ],
   "source": [
    "#main loop\n",
    "cap = cv2.VideoCapture(0)\n",
    "while True:\n",
    "    ret, frame = cap.read()\n",
    "    if not ret or frame is None:\n",
    "        print(\"Failed to grab frame\")\n",
    "        break\n",
    "    frame = cv2.flip(frame, 1)\n",
    "    h, w, _ = frame.shape\n",
    "\n",
    "    rgb = cv2.cvtColor(frame, cv2.COLOR_BGR2RGB)\n",
    "    results = hands.process(rgb)\n",
    "\n",
    "    curr_x, curr_y = None, None\n",
    "    swipe = False\n",
    "\n",
    "    #hand tracking\n",
    "    if results.multi_hand_landmarks:\n",
    "        for handLms in results.multi_hand_landmarks:\n",
    "            mp_drawing.draw_landmarks(frame, handLms, mp_hands.HAND_CONNECTIONS)\n",
    "\n",
    "            x = int(handLms.landmark[8].x * w)\n",
    "            y = int(handLms.landmark[8].y * h)\n",
    "\n",
    "            curr_x, curr_y = x, y \n",
    "            cv2.circle(frame, (x,y), 10, (255,0,255), -1)\n",
    "\n",
    "            #detect swipe\n",
    "            if prev_x is not None and prev_y is not None:\n",
    "                dist = math.hypot(curr_x - prev_x, curr_y - prev_y)\n",
    "                if dist > 40:\n",
    "                    swipe = True\n",
    "\n",
    "    #create new fruit objects at a rate of roughly one every 1.5 seconds.\n",
    "    if time.time() - last_spawn_time > 1.5:\n",
    "        new_fruit = Fruit(random.randint(50, w, -50), 0, velocity=5)\n",
    "        fruits.append(new_fruit)\n",
    "        last_spawn_time = time.time()\n",
    "    \n",
    "    #update and draw fruits\n",
    "    for fruit in fruits:\n",
    "        fruit.move()\n",
    "        fruit.draw(frame)\n",
    "        #determine if a fruit has been \"sliced\" by a swipe.\n",
    "        if swipe and fruit.alive and curr_x is not None:\n",
    "            if abs(fruit.x - curr_x) < fruit.radius and abs(fruit.y - curr_y) < fruit.radius:\n",
    "                fruit.alive = False\n",
    "                cv2.putText(frame, \"Sliced!\", (fruit.x - 20, fruit.y), cv2.FONT_HERSHEY_SIMPLEX, 0.7, (0,0,255), 2)\n",
    "    \n",
    "    #Remove dead fruits\n",
    "    fruits = [fruit for fruit in fruits if fruit.alive]\n",
    "    prev_x, prev_y = curr_x, curr_y\n",
    "    cv2.imshow(\"Fruit Slicing (Gesture)\", frame)\n",
    "    if cv2.waitKey(1) & 0xFF == ord('q'):\n",
    "        break\n",
    "cap.release()\n",
    "cv2.destroyAllWindows()"
   ]
  },
  {
   "cell_type": "code",
   "execution_count": null,
   "id": "2ed2f9d0",
   "metadata": {},
   "outputs": [],
   "source": []
  }
 ],
 "metadata": {
  "kernelspec": {
   "display_name": "cv2",
   "language": "python",
   "name": "python3"
  },
  "language_info": {
   "codemirror_mode": {
    "name": "ipython",
    "version": 3
   },
   "file_extension": ".py",
   "mimetype": "text/x-python",
   "name": "python",
   "nbconvert_exporter": "python",
   "pygments_lexer": "ipython3",
   "version": "3.10.17"
  }
 },
 "nbformat": 4,
 "nbformat_minor": 5
}
